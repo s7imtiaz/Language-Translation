{
 "cells": [
  {
   "cell_type": "markdown",
   "metadata": {
    "collapsed": true
   },
   "source": [
    "# Language Translation\n",
    "In this project, you’re going to take a peek into the realm of neural network machine translation.  You’ll be training a sequence to sequence model on a dataset of English and French sentences that can translate new sentences from English to French.\n",
    "## Get the Data\n",
    "Since translating the whole language of English to French will take lots of time to train, we have provided you with a small portion of the English corpus."
   ]
  },
  {
   "cell_type": "code",
   "execution_count": 1,
   "metadata": {
    "collapsed": true
   },
   "outputs": [],
   "source": [
    "\"\"\"\n",
    "DON'T MODIFY ANYTHING IN THIS CELL\n",
    "\"\"\"\n",
    "import helper\n",
    "import problem_unittests as tests\n",
    "\n",
    "source_path = 'data/small_vocab_en'\n",
    "target_path = 'data/small_vocab_fr'\n",
    "source_text = helper.load_data(source_path)\n",
    "target_text = helper.load_data(target_path)"
   ]
  },
  {
   "cell_type": "markdown",
   "metadata": {},
   "source": [
    "## Explore the Data\n",
    "Play around with view_sentence_range to view different parts of the data."
   ]
  },
  {
   "cell_type": "code",
   "execution_count": 2,
   "metadata": {},
   "outputs": [
    {
     "name": "stdout",
     "output_type": "stream",
     "text": [
      "Dataset Stats\n",
      "Roughly the number of unique words: 227\n",
      "Number of sentences: 137861\n",
      "Average number of words in a sentence: 13.225277634719028\n",
      "\n",
      "English sentences 0 to 10:\n",
      "new jersey is sometimes quiet during autumn , and it is snowy in april .\n",
      "the united states is usually chilly during july , and it is usually freezing in november .\n",
      "california is usually quiet during march , and it is usually hot in june .\n",
      "the united states is sometimes mild during june , and it is cold in september .\n",
      "your least liked fruit is the grape , but my least liked is the apple .\n",
      "his favorite fruit is the orange , but my favorite is the grape .\n",
      "paris is relaxing during december , but it is usually chilly in july .\n",
      "new jersey is busy during spring , and it is never hot in march .\n",
      "our least liked fruit is the lemon , but my least liked is the grape .\n",
      "the united states is sometimes busy during january , and it is sometimes warm in november .\n",
      "\n",
      "French sentences 0 to 10:\n",
      "new jersey est parfois calme pendant l' automne , et il est neigeux en avril .\n",
      "les états-unis est généralement froid en juillet , et il gèle habituellement en novembre .\n",
      "california est généralement calme en mars , et il est généralement chaud en juin .\n",
      "les états-unis est parfois légère en juin , et il fait froid en septembre .\n",
      "votre moins aimé fruit est le raisin , mais mon moins aimé est la pomme .\n",
      "son fruit préféré est l'orange , mais mon préféré est le raisin .\n",
      "paris est relaxant en décembre , mais il est généralement froid en juillet .\n",
      "new jersey est occupé au printemps , et il est jamais chaude en mars .\n",
      "notre fruit est moins aimé le citron , mais mon moins aimé est le raisin .\n",
      "les états-unis est parfois occupé en janvier , et il est parfois chaud en novembre .\n"
     ]
    }
   ],
   "source": [
    "view_sentence_range = (0, 10)\n",
    "\n",
    "\"\"\"\n",
    "DON'T MODIFY ANYTHING IN THIS CELL\n",
    "\"\"\"\n",
    "import numpy as np\n",
    "\n",
    "print('Dataset Stats')\n",
    "print('Roughly the number of unique words: {}'.format(len({word: None for word in source_text.split()})))\n",
    "\n",
    "sentences = source_text.split('\\n')\n",
    "word_counts = [len(sentence.split()) for sentence in sentences]\n",
    "print('Number of sentences: {}'.format(len(sentences)))\n",
    "print('Average number of words in a sentence: {}'.format(np.average(word_counts)))\n",
    "\n",
    "print()\n",
    "print('English sentences {} to {}:'.format(*view_sentence_range))\n",
    "print('\\n'.join(source_text.split('\\n')[view_sentence_range[0]:view_sentence_range[1]]))\n",
    "print()\n",
    "print('French sentences {} to {}:'.format(*view_sentence_range))\n",
    "print('\\n'.join(target_text.split('\\n')[view_sentence_range[0]:view_sentence_range[1]]))"
   ]
  },
  {
   "cell_type": "markdown",
   "metadata": {},
   "source": [
    "## Implement Preprocessing Function\n",
    "### Text to Word Ids\n",
    "As you did with other RNNs, you must turn the text into a number so the computer can understand it. In the function `text_to_ids()`, you'll turn `source_text` and `target_text` from words to ids.  However, you need to add the `<EOS>` word id at the end of `target_text`.  This will help the neural network predict when the sentence should end.\n",
    "\n",
    "You can get the `<EOS>` word id by doing:\n",
    "```python\n",
    "target_vocab_to_int['<EOS>']\n",
    "```\n",
    "You can get other word ids using `source_vocab_to_int` and `target_vocab_to_int`."
   ]
  },
  {
   "cell_type": "code",
   "execution_count": 3,
   "metadata": {},
   "outputs": [
    {
     "name": "stdout",
     "output_type": "stream",
     "text": [
      "Tests Passed\n"
     ]
    }
   ],
   "source": [
    "def text_to_ids(source_text, target_text, source_vocab_to_int, target_vocab_to_int):\n",
    "    \"\"\"\n",
    "    Convert source and target text to proper word ids\n",
    "    :param source_text: String that contains all the source text.\n",
    "    :param target_text: String that contains all the target text.\n",
    "    :param source_vocab_to_int: Dictionary to go from the source words to an id\n",
    "    :param target_vocab_to_int: Dictionary to go from the target words to an id\n",
    "    :return: A tuple of lists (source_id_text, target_id_text)\n",
    "    \"\"\"\n",
    "    # TODO: Implement Function\n",
    "    source_id_text = []\n",
    "    target_id_text = []\n",
    "    for sentence in source_text.split(\"\\n\"):\n",
    "        out = [source_vocab_to_int[w] for w in sentence.split()]\n",
    "        source_id_text.append(out)\n",
    "    for sentence in target_text.split(\"\\n\"):\n",
    "        out = [target_vocab_to_int[w] for w in sentence.split()]\n",
    "        out.append(target_vocab_to_int['<EOS>'])\n",
    "        target_id_text.append(out)\n",
    "    return source_id_text, target_id_text\n",
    "\n",
    "\"\"\"\n",
    "DON'T MODIFY ANYTHING IN THIS CELL THAT IS BELOW THIS LINE\n",
    "\"\"\"\n",
    "tests.test_text_to_ids(text_to_ids)"
   ]
  },
  {
   "cell_type": "markdown",
   "metadata": {},
   "source": [
    "### Preprocess all the data and save it\n",
    "Running the code cell below will preprocess all the data and save it to file."
   ]
  },
  {
   "cell_type": "code",
   "execution_count": 4,
   "metadata": {
    "collapsed": true
   },
   "outputs": [],
   "source": [
    "\"\"\"\n",
    "DON'T MODIFY ANYTHING IN THIS CELL\n",
    "\"\"\"\n",
    "helper.preprocess_and_save_data(source_path, target_path, text_to_ids)"
   ]
  },
  {
   "cell_type": "markdown",
   "metadata": {},
   "source": [
    "# Check Point\n",
    "This is your first checkpoint. If you ever decide to come back to this notebook or have to restart the notebook, you can start from here. The preprocessed data has been saved to disk."
   ]
  },
  {
   "cell_type": "code",
   "execution_count": 5,
   "metadata": {
    "collapsed": true
   },
   "outputs": [],
   "source": [
    "\"\"\"\n",
    "DON'T MODIFY ANYTHING IN THIS CELL\n",
    "\"\"\"\n",
    "import numpy as np\n",
    "import helper\n",
    "import problem_unittests as tests\n",
    "\n",
    "(source_int_text, target_int_text), (source_vocab_to_int, target_vocab_to_int), _ = helper.load_preprocess()"
   ]
  },
  {
   "cell_type": "markdown",
   "metadata": {},
   "source": [
    "### Check the Version of TensorFlow and Access to GPU\n",
    "This will check to make sure you have the correct version of TensorFlow and access to a GPU"
   ]
  },
  {
   "cell_type": "code",
   "execution_count": 6,
   "metadata": {},
   "outputs": [
    {
     "name": "stdout",
     "output_type": "stream",
     "text": [
      "TensorFlow Version: 1.1.0\n",
      "Default GPU Device: /gpu:0\n"
     ]
    }
   ],
   "source": [
    "\"\"\"\n",
    "DON'T MODIFY ANYTHING IN THIS CELL\n",
    "\"\"\"\n",
    "from distutils.version import LooseVersion\n",
    "import warnings\n",
    "import tensorflow as tf\n",
    "from tensorflow.python.layers.core import Dense\n",
    "\n",
    "# Check TensorFlow Version\n",
    "assert LooseVersion(tf.__version__) >= LooseVersion('1.0.0'), 'Please use TensorFlow version 1.1 or newer'\n",
    "print('TensorFlow Version: {}'.format(tf.__version__))\n",
    "\n",
    "# Check for a GPU\n",
    "if not tf.test.gpu_device_name():\n",
    "    warnings.warn('No GPU found. Please use a GPU to train your neural network.')\n",
    "else:\n",
    "    print('Default GPU Device: {}'.format(tf.test.gpu_device_name()))"
   ]
  },
  {
   "cell_type": "markdown",
   "metadata": {},
   "source": [
    "## Build the Neural Network\n",
    "You'll build the components necessary to build a Sequence-to-Sequence model by implementing the following functions below:\n",
    "- `model_inputs`\n",
    "- `process_decoder_input`\n",
    "- `encoding_layer`\n",
    "- `decoding_layer_train`\n",
    "- `decoding_layer_infer`\n",
    "- `decoding_layer`\n",
    "- `seq2seq_model`\n",
    "\n",
    "### Input\n",
    "Implement the `model_inputs()` function to create TF Placeholders for the Neural Network. It should create the following placeholders:\n",
    "\n",
    "- Input text placeholder named \"input\" using the TF Placeholder name parameter with rank 2.\n",
    "- Targets placeholder with rank 2.\n",
    "- Learning rate placeholder with rank 0.\n",
    "- Keep probability placeholder named \"keep_prob\" using the TF Placeholder name parameter with rank 0.\n",
    "- Target sequence length placeholder named \"target_sequence_length\" with rank 1\n",
    "- Max target sequence length tensor named \"max_target_len\" getting its value from applying tf.reduce_max on the target_sequence_length placeholder. Rank 0.\n",
    "- Source sequence length placeholder named \"source_sequence_length\" with rank 1\n",
    "\n",
    "Return the placeholders in the following the tuple (input, targets, learning rate, keep probability, target sequence length, max target sequence length, source sequence length)"
   ]
  },
  {
   "cell_type": "code",
   "execution_count": 7,
   "metadata": {},
   "outputs": [
    {
     "name": "stdout",
     "output_type": "stream",
     "text": [
      "Tests Passed\n"
     ]
    }
   ],
   "source": [
    "def model_inputs():\n",
    "    \"\"\"\n",
    "    Create TF Placeholders for input, targets, learning rate, and lengths of source and target sequences.\n",
    "    :return: Tuple (input, targets, learning rate, keep probability, target sequence length,\n",
    "    max target sequence length, source sequence length)\n",
    "    \"\"\"\n",
    "    # TODO: Implement Function\n",
    "    i = tf.placeholder(tf.int32, shape = (None,None), name = 'input')\n",
    "    t = tf.placeholder(tf.int32, shape = (None, None), name = 'target')\n",
    "    lr = tf.placeholder(tf.float32, shape = None, name = \"learning_rate\")\n",
    "    keep_prob = tf.placeholder(tf.float32, shape = None, name = \"keep_prob\")\n",
    "    target_sequence_length = tf.placeholder(tf.int32, shape = [None,], name = 'target_sequence_length')\n",
    "    max_target_len = tf.reduce_max(target_sequence_length, name = 'max_target_len')\n",
    "    source_sequence_length = tf.placeholder(tf.float32, shape = [None,], name = 'source_sequence_length')\n",
    "    return i, t, lr, keep_prob , target_sequence_length , max_target_len, source_sequence_length\n",
    "\n",
    "\n",
    "\"\"\"\n",
    "DON'T MODIFY ANYTHING IN THIS CELL THAT IS BELOW THIS LINE\n",
    "\"\"\"\n",
    "tests.test_model_inputs(model_inputs)"
   ]
  },
  {
   "cell_type": "markdown",
   "metadata": {},
   "source": [
    "### Process Decoder Input\n",
    "Implement `process_decoder_input` by removing the last word id from each batch in `target_data` and concat the GO ID to the begining of each batch."
   ]
  },
  {
   "cell_type": "code",
   "execution_count": 8,
   "metadata": {},
   "outputs": [
    {
     "name": "stdout",
     "output_type": "stream",
     "text": [
      "Tests Passed\n"
     ]
    }
   ],
   "source": [
    "def process_decoder_input(target_data, target_vocab_to_int, batch_size):\n",
    "    \"\"\"\n",
    "    Preprocess target data for encoding\n",
    "    :param target_data: Target Placehoder\n",
    "    :param target_vocab_to_int: Dictionary to go from the target words to an id\n",
    "    :param batch_size: Batch Size\n",
    "    :return: Preprocessed target data\n",
    "    \"\"\"\n",
    "    # TODO: Implement Function\n",
    "    target_data_slice = tf.strided_slice(target_data, [0, 0], [batch_size, -1], [1,1])\n",
    "    target_data = tf.concat([tf.fill([batch_size, 1], target_vocab_to_int['<GO>']), target_data_slice], 1)\n",
    "    return target_data\n",
    "\n",
    "\"\"\"\n",
    "DON'T MODIFY ANYTHING IN THIS CELL THAT IS BELOW THIS LINE\n",
    "\"\"\"\n",
    "tests.test_process_encoding_input(process_decoder_input)"
   ]
  },
  {
   "cell_type": "markdown",
   "metadata": {},
   "source": [
    "### Encoding\n",
    "Implement `encoding_layer()` to create a Encoder RNN layer:\n",
    " * Embed the encoder input using [`tf.contrib.layers.embed_sequence`](https://www.tensorflow.org/api_docs/python/tf/contrib/layers/embed_sequence)\n",
    " * Construct a [stacked](https://github.com/tensorflow/tensorflow/blob/6947f65a374ebf29e74bb71e36fd82760056d82c/tensorflow/docs_src/tutorials/recurrent.md#stacking-multiple-lstms) [`tf.contrib.rnn.LSTMCell`](https://www.tensorflow.org/api_docs/python/tf/contrib/rnn/LSTMCell) wrapped in a [`tf.contrib.rnn.DropoutWrapper`](https://www.tensorflow.org/api_docs/python/tf/contrib/rnn/DropoutWrapper)\n",
    " * Pass cell and embedded input to [`tf.nn.dynamic_rnn()`](https://www.tensorflow.org/api_docs/python/tf/nn/dynamic_rnn)"
   ]
  },
  {
   "cell_type": "code",
   "execution_count": 9,
   "metadata": {
    "scrolled": true
   },
   "outputs": [
    {
     "name": "stdout",
     "output_type": "stream",
     "text": [
      "Tests Passed\n"
     ]
    }
   ],
   "source": [
    "from imp import reload\n",
    "reload(tests)\n",
    "\n",
    "def encoding_layer(rnn_inputs, rnn_size, num_layers, keep_prob, \n",
    "                   source_sequence_length, source_vocab_size, \n",
    "                   encoding_embedding_size):\n",
    "    \"\"\"\n",
    "    Create encoding layer\n",
    "    :param rnn_inputs: Inputs for the RNN\n",
    "    :param rnn_size: RNN Size\n",
    "    :param num_layers: Number of layers\n",
    "    :param keep_prob: Dropout keep probability\n",
    "    :param source_sequence_length: a list of the lengths of each sequence in the batch\n",
    "    :param source_vocab_size: vocabulary size of source data\n",
    "    :param encoding_embedding_size: embedding size of source data\n",
    "    :return: tuple (RNN output, RNN state)\n",
    "    \"\"\"\n",
    "    # TODO: Implement Function\n",
    "    def lstm_cell():\n",
    "        lstm = tf.contrib.rnn.LSTMCell(rnn_size)\n",
    "        lstm = tf.contrib.rnn.DropoutWrapper(lstm, output_keep_prob=keep_prob)\n",
    "        return lstm\n",
    "    \n",
    "    embed_input = tf.contrib.layers.embed_sequence(rnn_inputs, source_vocab_size, encoding_embedding_size)\n",
    "    \n",
    "    cell = tf.contrib.rnn.MultiRNNCell([lstm_cell() for _ in range(num_layers)])\n",
    "    output, state = tf.nn.dynamic_rnn(cell, embed_input, sequence_length=source_sequence_length, dtype=tf.float32)\n",
    "    \n",
    "    return output, state\n",
    "\n",
    "\"\"\"\n",
    "DON'T MODIFY ANYTHING IN THIS CELL THAT IS BELOW THIS LINE\n",
    "\"\"\"\n",
    "tests.test_encoding_layer(encoding_layer)"
   ]
  },
  {
   "cell_type": "markdown",
   "metadata": {},
   "source": [
    "### Decoding - Training\n",
    "Create a training decoding layer:\n",
    "* Create a [`tf.contrib.seq2seq.TrainingHelper`](https://www.tensorflow.org/api_docs/python/tf/contrib/seq2seq/TrainingHelper) \n",
    "* Create a [`tf.contrib.seq2seq.BasicDecoder`](https://www.tensorflow.org/api_docs/python/tf/contrib/seq2seq/BasicDecoder)\n",
    "* Obtain the decoder outputs from [`tf.contrib.seq2seq.dynamic_decode`](https://www.tensorflow.org/api_docs/python/tf/contrib/seq2seq/dynamic_decode)"
   ]
  },
  {
   "cell_type": "code",
   "execution_count": 10,
   "metadata": {},
   "outputs": [
    {
     "name": "stdout",
     "output_type": "stream",
     "text": [
      "Tests Passed\n"
     ]
    }
   ],
   "source": [
    "\n",
    "def decoding_layer_train(encoder_state, dec_cell, dec_embed_input, \n",
    "                         target_sequence_length, max_summary_length, \n",
    "                         output_layer, keep_prob):\n",
    "    \"\"\"\n",
    "    Create a decoding layer for training\n",
    "    :param encoder_state: Encoder State\n",
    "    :param dec_cell: Decoder RNN Cell\n",
    "    :param dec_embed_input: Decoder embedded input\n",
    "    :param target_sequence_length: The lengths of each sequence in the target batch\n",
    "    :param max_summary_length: The length of the longest sequence in the batch\n",
    "    :param output_layer: Function to apply the output layer\n",
    "    :param keep_prob: Dropout keep probability\n",
    "    :return: BasicDecoderOutput containing training logits and sample_id\n",
    "    \"\"\"\n",
    "    # TODO: Implement Function\n",
    "    dropout_cell = tf.contrib.rnn.DropoutWrapper(dec_cell,output_keep_prob = keep_prob)\n",
    "\n",
    "    training_helper = tf.contrib.seq2seq.TrainingHelper(dec_embed_input,target_sequence_length)\n",
    "        \n",
    "    training_decoder = tf.contrib.seq2seq.BasicDecoder(dropout_cell, training_helper, encoder_state, output_layer)\n",
    "        \n",
    "        \n",
    "    training_decoder_output = tf.contrib.seq2seq.dynamic_decode(training_decoder, maximum_iterations = max_summary_length)[0]\n",
    "\n",
    "\n",
    "    return training_decoder_output\n",
    "\n",
    "\n",
    "\"\"\"\n",
    "DON'T MODIFY ANYTHING IN THIS CELL THAT IS BELOW THIS LINE\n",
    "\"\"\"\n",
    "tests.test_decoding_layer_train(decoding_layer_train)"
   ]
  },
  {
   "cell_type": "markdown",
   "metadata": {},
   "source": [
    "### Decoding - Inference\n",
    "Create inference decoder:\n",
    "* Create a [`tf.contrib.seq2seq.GreedyEmbeddingHelper`](https://www.tensorflow.org/api_docs/python/tf/contrib/seq2seq/GreedyEmbeddingHelper)\n",
    "* Create a [`tf.contrib.seq2seq.BasicDecoder`](https://www.tensorflow.org/api_docs/python/tf/contrib/seq2seq/BasicDecoder)\n",
    "* Obtain the decoder outputs from [`tf.contrib.seq2seq.dynamic_decode`](https://www.tensorflow.org/api_docs/python/tf/contrib/seq2seq/dynamic_decode)"
   ]
  },
  {
   "cell_type": "code",
   "execution_count": 11,
   "metadata": {
    "scrolled": true
   },
   "outputs": [
    {
     "name": "stdout",
     "output_type": "stream",
     "text": [
      "Tests Passed\n"
     ]
    }
   ],
   "source": [
    "def decoding_layer_infer(encoder_state, dec_cell, dec_embeddings, start_of_sequence_id,\n",
    "                         end_of_sequence_id, max_target_sequence_length,\n",
    "                         vocab_size, output_layer, batch_size, keep_prob):\n",
    "    \"\"\"\n",
    "    Create a decoding layer for inference\n",
    "    :param encoder_state: Encoder state\n",
    "    :param dec_cell: Decoder RNN Cell\n",
    "    :param dec_embeddings: Decoder embeddings\n",
    "    :param start_of_sequence_id: GO ID\n",
    "    :param end_of_sequence_id: EOS Id\n",
    "    :param max_target_sequence_length: Maximum length of target sequences\n",
    "    :param vocab_size: Size of decoder/target vocabulary\n",
    "    :param decoding_scope: TenorFlow Variable Scope for decoding\n",
    "    :param output_layer: Function to apply the output layer\n",
    "    :param batch_size: Batch size\n",
    "    :param keep_prob: Dropout keep probability\n",
    "    :return: BasicDecoderOutput containing inference logits and sample_id\n",
    "    \"\"\"\n",
    "    # TODO: Implement Function\n",
    "    dropout_cell = tf.contrib.rnn.DropoutWrapper(dec_cell,output_keep_prob = keep_prob)\n",
    "    \n",
    "    inference_helper = tf.contrib.seq2seq.GreedyEmbeddingHelper(dec_embeddings, tf.fill([batch_size], \n",
    "                                                                                        start_of_sequence_id), \n",
    "                                                                end_of_sequence_id)\n",
    "    \n",
    "    inference_decoder = tf.contrib.seq2seq.BasicDecoder(dropout_cell, inference_helper, encoder_state,\n",
    "                                                       output_layer = output_layer)\n",
    "    \n",
    "    basic_decoder_output = tf.contrib.seq2seq.dynamic_decode(inference_decoder, maximum_iterations = max_target_sequence_length)[0]\n",
    "\n",
    "    return basic_decoder_output\n",
    "\n",
    "\"\"\"\n",
    "DON'T MODIFY ANYTHING IN THIS CELL THAT IS BELOW THIS LINE\n",
    "\"\"\"\n",
    "tests.test_decoding_layer_infer(decoding_layer_infer)"
   ]
  },
  {
   "cell_type": "markdown",
   "metadata": {},
   "source": [
    "### Build the Decoding Layer\n",
    "Implement `decoding_layer()` to create a Decoder RNN layer.\n",
    "\n",
    "* Embed the target sequences\n",
    "* Construct the decoder LSTM cell (just like you constructed the encoder cell above)\n",
    "* Create an output layer to map the outputs of the decoder to the elements of our vocabulary\n",
    "* Use the your `decoding_layer_train(encoder_state, dec_cell, dec_embed_input, target_sequence_length, max_target_sequence_length, output_layer, keep_prob)` function to get the training logits.\n",
    "* Use your `decoding_layer_infer(encoder_state, dec_cell, dec_embeddings, start_of_sequence_id, end_of_sequence_id, max_target_sequence_length, vocab_size, output_layer, batch_size, keep_prob)` function to get the inference logits.\n",
    "\n",
    "Note: You'll need to use [tf.variable_scope](https://www.tensorflow.org/api_docs/python/tf/variable_scope) to share variables between training and inference."
   ]
  },
  {
   "cell_type": "code",
   "execution_count": 12,
   "metadata": {},
   "outputs": [
    {
     "name": "stdout",
     "output_type": "stream",
     "text": [
      "Tests Passed\n"
     ]
    }
   ],
   "source": [
    "from tensorflow.python.layers.core import Dense\n",
    "def decoding_layer(dec_input, encoder_state,\n",
    "                   target_sequence_length, max_target_sequence_length,\n",
    "                   rnn_size,\n",
    "                   num_layers, target_vocab_to_int, target_vocab_size,\n",
    "                   batch_size, keep_prob, decoding_embedding_size):\n",
    "    \"\"\"\n",
    "    Create decoding layer\n",
    "    :param dec_input: Decoder input\n",
    "    :param encoder_state: Encoder state\n",
    "    :param target_sequence_length: The lengths of each sequence in the target batch\n",
    "    :param max_target_sequence_length: Maximum length of target sequences\n",
    "    :param rnn_size: RNN Size\n",
    "    :param num_layers: Number of layers\n",
    "    :param target_vocab_to_int: Dictionary to go from the target words to an id\n",
    "    :param target_vocab_size: Size of target vocabulary\n",
    "    :param batch_size: The size of the batch\n",
    "    :param keep_prob: Dropout keep probability\n",
    "    :param decoding_embedding_size: Decoding embedding size\n",
    "    :return: Tuple of (Training BasicDecoderOutput, Inference BasicDecoderOutput)\n",
    "    \"\"\"\n",
    "    # TODO: Implement Function\n",
    "    def lstm_cell():\n",
    "        lstm = tf.contrib.rnn.LSTMCell(rnn_size)\n",
    "        lstm = tf.contrib.rnn.DropoutWrapper(lstm, output_keep_prob = keep_prob)\n",
    "        return lstm\n",
    "    \n",
    "    with tf.variable_scope('decoding_scope') as decoding_scope:\n",
    "        dec_embeddings = tf.get_variable('dec_embeddings', [target_vocab_size, decoding_embedding_size])\n",
    "        dec_embed_input = tf.nn.embedding_lookup(dec_embeddings, dec_input)\n",
    "        \n",
    "        stack_cell = tf.contrib.rnn.MultiRNNCell([lstm_cell() for _ in range(num_layers)])\n",
    "        output = Dense(target_vocab_size, use_bias = False)\n",
    "        \n",
    "        train_logits = decoding_layer_train(encoder_state, stack_cell, dec_embed_input, target_sequence_length,\n",
    "                                            max_target_sequence_length, output, keep_prob)\n",
    "        decoding_scope.reuse_variables()\n",
    "        \n",
    "        layer_infer = decoding_layer_infer(encoder_state, stack_cell, tf.get_variable('dec_embeddings'),\n",
    "                                          target_vocab_to_int['<GO>'],\n",
    "                                          target_vocab_to_int['<EOS>'],\n",
    "                                          max_target_sequence_length,\n",
    "                                          target_vocab_size,\n",
    "                                          output,\n",
    "                                          batch_size,\n",
    "                                          keep_prob)\n",
    "        \n",
    "    return train_logits, layer_infer\n",
    "\n",
    "\n",
    "\n",
    "\"\"\"\n",
    "DON'T MODIFY ANYTHING IN THIS CELL THAT IS BELOW THIS LINE\n",
    "\"\"\"\n",
    "tests.test_decoding_layer(decoding_layer)"
   ]
  },
  {
   "cell_type": "markdown",
   "metadata": {},
   "source": [
    "### Build the Neural Network\n",
    "Apply the functions you implemented above to:\n",
    "\n",
    "- Encode the input using your `encoding_layer(rnn_inputs, rnn_size, num_layers, keep_prob,  source_sequence_length, source_vocab_size, encoding_embedding_size)`.\n",
    "- Process target data using your `process_decoder_input(target_data, target_vocab_to_int, batch_size)` function.\n",
    "- Decode the encoded input using your `decoding_layer(dec_input, enc_state, target_sequence_length, max_target_sentence_length, rnn_size, num_layers, target_vocab_to_int, target_vocab_size, batch_size, keep_prob, dec_embedding_size)` function."
   ]
  },
  {
   "cell_type": "code",
   "execution_count": 13,
   "metadata": {},
   "outputs": [
    {
     "name": "stdout",
     "output_type": "stream",
     "text": [
      "Tests Passed\n"
     ]
    }
   ],
   "source": [
    "def seq2seq_model(input_data, target_data, keep_prob, batch_size,\n",
    "                  source_sequence_length, target_sequence_length,\n",
    "                  max_target_sentence_length,\n",
    "                  source_vocab_size, target_vocab_size,\n",
    "                  enc_embedding_size, dec_embedding_size,\n",
    "                  rnn_size, num_layers, target_vocab_to_int):\n",
    "    \"\"\"\n",
    "    Build the Sequence-to-Sequence part of the neural network\n",
    "    :param input_data: Input placeholder\n",
    "    :param target_data: Target placeholder\n",
    "    :param keep_prob: Dropout keep probability placeholder\n",
    "    :param batch_size: Batch Size\n",
    "    :param source_sequence_length: Sequence Lengths of source sequences in the batch\n",
    "    :param target_sequence_length: Sequence Lengths of target sequences in the batch\n",
    "    :param source_vocab_size: Source vocabulary size\n",
    "    :param target_vocab_size: Target vocabulary size\n",
    "    :param enc_embedding_size: Decoder embedding size\n",
    "    :param dec_embedding_size: Encoder embedding size\n",
    "    :param rnn_size: RNN Size\n",
    "    :param num_layers: Number of layers\n",
    "    :param target_vocab_to_int: Dictionary to go from the target words to an id\n",
    "    :return: Tuple of (Training BasicDecoderOutput, Inference BasicDecoderOutput)\n",
    "    \"\"\"\n",
    "    # TODO: Implement Function\n",
    "    encoded_input, enc_state = encoding_layer(input_data, rnn_size, num_layers, keep_prob, source_sequence_length,\n",
    "                                             source_vocab_size, enc_embedding_size)\n",
    "    \n",
    "    process_target_data = process_decoder_input(target_data, target_vocab_to_int, batch_size)\n",
    "    \n",
    "    decoded_output, dec_infer = decoding_layer(process_target_data, enc_state, target_sequence_length,\n",
    "                                              max_target_sentence_length, rnn_size, num_layers, \n",
    "                                              target_vocab_to_int, target_vocab_size, batch_size, \n",
    "                                              keep_prob, dec_embedding_size)\n",
    "    \n",
    "    \n",
    "    return decoded_output, dec_infer\n",
    "\n",
    "\n",
    "\"\"\"\n",
    "DON'T MODIFY ANYTHING IN THIS CELL THAT IS BELOW THIS LINE\n",
    "\"\"\"\n",
    "tests.test_seq2seq_model(seq2seq_model)"
   ]
  },
  {
   "cell_type": "markdown",
   "metadata": {},
   "source": [
    "## Neural Network Training\n",
    "### Hyperparameters\n",
    "Tune the following parameters:\n",
    "\n",
    "- Set `epochs` to the number of epochs.\n",
    "- Set `batch_size` to the batch size.\n",
    "- Set `rnn_size` to the size of the RNNs.\n",
    "- Set `num_layers` to the number of layers.\n",
    "- Set `encoding_embedding_size` to the size of the embedding for the encoder.\n",
    "- Set `decoding_embedding_size` to the size of the embedding for the decoder.\n",
    "- Set `learning_rate` to the learning rate.\n",
    "- Set `keep_probability` to the Dropout keep probability\n",
    "- Set `display_step` to state how many steps between each debug output statement"
   ]
  },
  {
   "cell_type": "code",
   "execution_count": 16,
   "metadata": {
    "collapsed": true
   },
   "outputs": [],
   "source": [
    "# Number of Epochs\n",
    "epochs = 3\n",
    "# Batch Size\n",
    "batch_size = 256\n",
    "# RNN Size\n",
    "rnn_size = 512\n",
    "# Number of Layers\n",
    "num_layers = 2\n",
    "# Embedding Size\n",
    "encoding_embedding_size = 256\n",
    "decoding_embedding_size = 256\n",
    "# Learning Rate\n",
    "learning_rate = 0.001\n",
    "# Dropout Keep Probability\n",
    "keep_probability = 0.7\n",
    "display_step = 10"
   ]
  },
  {
   "cell_type": "markdown",
   "metadata": {},
   "source": [
    "### Build the Graph\n",
    "Build the graph using the neural network you implemented."
   ]
  },
  {
   "cell_type": "code",
   "execution_count": 17,
   "metadata": {
    "collapsed": true
   },
   "outputs": [],
   "source": [
    "\"\"\"\n",
    "DON'T MODIFY ANYTHING IN THIS CELL\n",
    "\"\"\"\n",
    "save_path = 'checkpoints/dev'\n",
    "(source_int_text, target_int_text), (source_vocab_to_int, target_vocab_to_int), _ = helper.load_preprocess()\n",
    "max_target_sentence_length = max([len(sentence) for sentence in source_int_text])\n",
    "\n",
    "train_graph = tf.Graph()\n",
    "with train_graph.as_default():\n",
    "    input_data, targets, lr, keep_prob, target_sequence_length, max_target_sequence_length, source_sequence_length = model_inputs()\n",
    "\n",
    "    #sequence_length = tf.placeholder_with_default(max_target_sentence_length, None, name='sequence_length')\n",
    "    input_shape = tf.shape(input_data)\n",
    "\n",
    "    train_logits, inference_logits = seq2seq_model(tf.reverse(input_data, [-1]),\n",
    "                                                   targets,\n",
    "                                                   keep_prob,\n",
    "                                                   batch_size,\n",
    "                                                   source_sequence_length,\n",
    "                                                   target_sequence_length,\n",
    "                                                   max_target_sequence_length,\n",
    "                                                   len(source_vocab_to_int),\n",
    "                                                   len(target_vocab_to_int),\n",
    "                                                   encoding_embedding_size,\n",
    "                                                   decoding_embedding_size,\n",
    "                                                   rnn_size,\n",
    "                                                   num_layers,\n",
    "                                                   target_vocab_to_int)\n",
    "\n",
    "\n",
    "    training_logits = tf.identity(train_logits.rnn_output, name='logits')\n",
    "    inference_logits = tf.identity(inference_logits.sample_id, name='predictions')\n",
    "\n",
    "    masks = tf.sequence_mask(target_sequence_length, max_target_sequence_length, dtype=tf.float32, name='masks')\n",
    "\n",
    "    with tf.name_scope(\"optimization\"):\n",
    "        # Loss function\n",
    "        cost = tf.contrib.seq2seq.sequence_loss(\n",
    "            training_logits,\n",
    "            targets,\n",
    "            masks)\n",
    "\n",
    "        # Optimizer\n",
    "        optimizer = tf.train.AdamOptimizer(lr)\n",
    "\n",
    "        # Gradient Clipping\n",
    "        gradients = optimizer.compute_gradients(cost)\n",
    "        capped_gradients = [(tf.clip_by_value(grad, -1., 1.), var) for grad, var in gradients if grad is not None]\n",
    "        train_op = optimizer.apply_gradients(capped_gradients)\n"
   ]
  },
  {
   "cell_type": "markdown",
   "metadata": {},
   "source": [
    "Batch and pad the source and target sequences"
   ]
  },
  {
   "cell_type": "code",
   "execution_count": 18,
   "metadata": {
    "collapsed": true
   },
   "outputs": [],
   "source": [
    "\"\"\"\n",
    "DON'T MODIFY ANYTHING IN THIS CELL\n",
    "\"\"\"\n",
    "def pad_sentence_batch(sentence_batch, pad_int):\n",
    "    \"\"\"Pad sentences with <PAD> so that each sentence of a batch has the same length\"\"\"\n",
    "    max_sentence = max([len(sentence) for sentence in sentence_batch])\n",
    "    return [sentence + [pad_int] * (max_sentence - len(sentence)) for sentence in sentence_batch]\n",
    "\n",
    "\n",
    "def get_batches(sources, targets, batch_size, source_pad_int, target_pad_int):\n",
    "    \"\"\"Batch targets, sources, and the lengths of their sentences together\"\"\"\n",
    "    for batch_i in range(0, len(sources)//batch_size):\n",
    "        start_i = batch_i * batch_size\n",
    "\n",
    "        # Slice the right amount for the batch\n",
    "        sources_batch = sources[start_i:start_i + batch_size]\n",
    "        targets_batch = targets[start_i:start_i + batch_size]\n",
    "\n",
    "        # Pad\n",
    "        pad_sources_batch = np.array(pad_sentence_batch(sources_batch, source_pad_int))\n",
    "        pad_targets_batch = np.array(pad_sentence_batch(targets_batch, target_pad_int))\n",
    "\n",
    "        # Need the lengths for the _lengths parameters\n",
    "        pad_targets_lengths = []\n",
    "        for target in pad_targets_batch:\n",
    "            pad_targets_lengths.append(len(target))\n",
    "\n",
    "        pad_source_lengths = []\n",
    "        for source in pad_sources_batch:\n",
    "            pad_source_lengths.append(len(source))\n",
    "\n",
    "        yield pad_sources_batch, pad_targets_batch, pad_source_lengths, pad_targets_lengths\n"
   ]
  },
  {
   "cell_type": "markdown",
   "metadata": {},
   "source": [
    "### Train\n",
    "Train the neural network on the preprocessed data. If you have a hard time getting a good loss, check the forms to see if anyone is having the same problem."
   ]
  },
  {
   "cell_type": "code",
   "execution_count": 19,
   "metadata": {
    "scrolled": true
   },
   "outputs": [
    {
     "name": "stdout",
     "output_type": "stream",
     "text": [
      "Epoch   0 Batch   10/538 - Train Accuracy: 0.2672, Validation Accuracy: 0.3569, Loss: 3.6803\n",
      "Epoch   0 Batch   20/538 - Train Accuracy: 0.3460, Validation Accuracy: 0.3929, Loss: 3.0737\n",
      "Epoch   0 Batch   30/538 - Train Accuracy: 0.3520, Validation Accuracy: 0.4231, Loss: 2.8637\n",
      "Epoch   0 Batch   40/538 - Train Accuracy: 0.4251, Validation Accuracy: 0.4368, Loss: 2.4170\n",
      "Epoch   0 Batch   50/538 - Train Accuracy: 0.3943, Validation Accuracy: 0.4524, Loss: 2.4005\n",
      "Epoch   0 Batch   60/538 - Train Accuracy: 0.3937, Validation Accuracy: 0.4551, Loss: 2.3134\n",
      "Epoch   0 Batch   70/538 - Train Accuracy: 0.4023, Validation Accuracy: 0.4391, Loss: 2.0700\n",
      "Epoch   0 Batch   80/538 - Train Accuracy: 0.3986, Validation Accuracy: 0.4673, Loss: 2.0119\n",
      "Epoch   0 Batch   90/538 - Train Accuracy: 0.4420, Validation Accuracy: 0.4702, Loss: 1.7752\n",
      "Epoch   0 Batch  100/538 - Train Accuracy: 0.4309, Validation Accuracy: 0.4778, Loss: 1.6526\n",
      "Epoch   0 Batch  110/538 - Train Accuracy: 0.4412, Validation Accuracy: 0.4995, Loss: 1.6233\n",
      "Epoch   0 Batch  120/538 - Train Accuracy: 0.4443, Validation Accuracy: 0.4858, Loss: 1.4679\n",
      "Epoch   0 Batch  130/538 - Train Accuracy: 0.4842, Validation Accuracy: 0.5083, Loss: 1.3656\n",
      "Epoch   0 Batch  140/538 - Train Accuracy: 0.4209, Validation Accuracy: 0.4931, Loss: 1.3914\n",
      "Epoch   0 Batch  150/538 - Train Accuracy: 0.4916, Validation Accuracy: 0.5211, Loss: 1.2651\n",
      "Epoch   0 Batch  160/538 - Train Accuracy: 0.4879, Validation Accuracy: 0.5231, Loss: 1.1502\n",
      "Epoch   0 Batch  170/538 - Train Accuracy: 0.5182, Validation Accuracy: 0.5378, Loss: 1.1189\n",
      "Epoch   0 Batch  180/538 - Train Accuracy: 0.4896, Validation Accuracy: 0.5066, Loss: 1.0881\n",
      "Epoch   0 Batch  190/538 - Train Accuracy: 0.4892, Validation Accuracy: 0.5245, Loss: 1.0732\n",
      "Epoch   0 Batch  200/538 - Train Accuracy: 0.5025, Validation Accuracy: 0.5316, Loss: 1.0123\n",
      "Epoch   0 Batch  210/538 - Train Accuracy: 0.5136, Validation Accuracy: 0.5538, Loss: 0.9550\n",
      "Epoch   0 Batch  220/538 - Train Accuracy: 0.5076, Validation Accuracy: 0.5415, Loss: 0.9073\n",
      "Epoch   0 Batch  230/538 - Train Accuracy: 0.5322, Validation Accuracy: 0.5588, Loss: 0.9142\n",
      "Epoch   0 Batch  240/538 - Train Accuracy: 0.5225, Validation Accuracy: 0.5559, Loss: 0.8903\n",
      "Epoch   0 Batch  250/538 - Train Accuracy: 0.5613, Validation Accuracy: 0.5811, Loss: 0.8407\n",
      "Epoch   0 Batch  260/538 - Train Accuracy: 0.5565, Validation Accuracy: 0.5751, Loss: 0.8211\n",
      "Epoch   0 Batch  270/538 - Train Accuracy: 0.5490, Validation Accuracy: 0.5787, Loss: 0.7928\n",
      "Epoch   0 Batch  280/538 - Train Accuracy: 0.6066, Validation Accuracy: 0.5964, Loss: 0.7423\n",
      "Epoch   0 Batch  290/538 - Train Accuracy: 0.5650, Validation Accuracy: 0.5904, Loss: 0.7505\n",
      "Epoch   0 Batch  300/538 - Train Accuracy: 0.5934, Validation Accuracy: 0.5890, Loss: 0.7188\n",
      "Epoch   0 Batch  310/538 - Train Accuracy: 0.5920, Validation Accuracy: 0.6033, Loss: 0.7020\n",
      "Epoch   0 Batch  320/538 - Train Accuracy: 0.6021, Validation Accuracy: 0.6108, Loss: 0.6841\n",
      "Epoch   0 Batch  330/538 - Train Accuracy: 0.6122, Validation Accuracy: 0.6028, Loss: 0.6600\n",
      "Epoch   0 Batch  340/538 - Train Accuracy: 0.5795, Validation Accuracy: 0.5980, Loss: 0.7024\n",
      "Epoch   0 Batch  350/538 - Train Accuracy: 0.5943, Validation Accuracy: 0.5920, Loss: 0.6713\n",
      "Epoch   0 Batch  360/538 - Train Accuracy: 0.5941, Validation Accuracy: 0.6087, Loss: 0.6658\n",
      "Epoch   0 Batch  370/538 - Train Accuracy: 0.5779, Validation Accuracy: 0.6119, Loss: 0.6519\n",
      "Epoch   0 Batch  380/538 - Train Accuracy: 0.6113, Validation Accuracy: 0.6293, Loss: 0.6041\n",
      "Epoch   0 Batch  390/538 - Train Accuracy: 0.6401, Validation Accuracy: 0.6149, Loss: 0.5742\n",
      "Epoch   0 Batch  400/538 - Train Accuracy: 0.6107, Validation Accuracy: 0.6332, Loss: 0.5697\n",
      "Epoch   0 Batch  410/538 - Train Accuracy: 0.6336, Validation Accuracy: 0.6451, Loss: 0.5875\n",
      "Epoch   0 Batch  420/538 - Train Accuracy: 0.6498, Validation Accuracy: 0.6536, Loss: 0.5501\n",
      "Epoch   0 Batch  430/538 - Train Accuracy: 0.6508, Validation Accuracy: 0.6424, Loss: 0.5395\n",
      "Epoch   0 Batch  440/538 - Train Accuracy: 0.6555, Validation Accuracy: 0.6705, Loss: 0.5462\n",
      "Epoch   0 Batch  450/538 - Train Accuracy: 0.6830, Validation Accuracy: 0.6843, Loss: 0.5243\n",
      "Epoch   0 Batch  460/538 - Train Accuracy: 0.6657, Validation Accuracy: 0.6832, Loss: 0.4996\n",
      "Epoch   0 Batch  470/538 - Train Accuracy: 0.7083, Validation Accuracy: 0.6790, Loss: 0.4742\n",
      "Epoch   0 Batch  480/538 - Train Accuracy: 0.7059, Validation Accuracy: 0.6829, Loss: 0.4619\n",
      "Epoch   0 Batch  490/538 - Train Accuracy: 0.7206, Validation Accuracy: 0.7102, Loss: 0.4522\n",
      "Epoch   0 Batch  500/538 - Train Accuracy: 0.7296, Validation Accuracy: 0.6937, Loss: 0.4142\n",
      "Epoch   0 Batch  510/538 - Train Accuracy: 0.7227, Validation Accuracy: 0.7156, Loss: 0.4298\n",
      "Epoch   0 Batch  520/538 - Train Accuracy: 0.7033, Validation Accuracy: 0.7045, Loss: 0.4714\n",
      "Epoch   0 Batch  530/538 - Train Accuracy: 0.7246, Validation Accuracy: 0.7168, Loss: 0.4328\n",
      "Epoch   1 Batch   10/538 - Train Accuracy: 0.7176, Validation Accuracy: 0.7283, Loss: 0.4150\n",
      "Epoch   1 Batch   20/538 - Train Accuracy: 0.7734, Validation Accuracy: 0.7429, Loss: 0.4079\n",
      "Epoch   1 Batch   30/538 - Train Accuracy: 0.7281, Validation Accuracy: 0.7340, Loss: 0.4007\n",
      "Epoch   1 Batch   40/538 - Train Accuracy: 0.7686, Validation Accuracy: 0.7401, Loss: 0.3339\n",
      "Epoch   1 Batch   50/538 - Train Accuracy: 0.7604, Validation Accuracy: 0.7603, Loss: 0.3710\n",
      "Epoch   1 Batch   60/538 - Train Accuracy: 0.7854, Validation Accuracy: 0.7401, Loss: 0.3470\n",
      "Epoch   1 Batch   70/538 - Train Accuracy: 0.7775, Validation Accuracy: 0.7699, Loss: 0.3211\n",
      "Epoch   1 Batch   80/538 - Train Accuracy: 0.7754, Validation Accuracy: 0.7720, Loss: 0.3384\n",
      "Epoch   1 Batch   90/538 - Train Accuracy: 0.7855, Validation Accuracy: 0.7939, Loss: 0.3199\n",
      "Epoch   1 Batch  100/538 - Train Accuracy: 0.8406, Validation Accuracy: 0.8063, Loss: 0.2808\n",
      "Epoch   1 Batch  110/538 - Train Accuracy: 0.8314, Validation Accuracy: 0.8056, Loss: 0.2890\n",
      "Epoch   1 Batch  120/538 - Train Accuracy: 0.8391, Validation Accuracy: 0.8176, Loss: 0.2598\n",
      "Epoch   1 Batch  130/538 - Train Accuracy: 0.8544, Validation Accuracy: 0.8249, Loss: 0.2555\n",
      "Epoch   1 Batch  140/538 - Train Accuracy: 0.8238, Validation Accuracy: 0.8224, Loss: 0.2888\n",
      "Epoch   1 Batch  150/538 - Train Accuracy: 0.8484, Validation Accuracy: 0.8317, Loss: 0.2516\n",
      "Epoch   1 Batch  160/538 - Train Accuracy: 0.8268, Validation Accuracy: 0.8233, Loss: 0.2295\n",
      "Epoch   1 Batch  170/538 - Train Accuracy: 0.8449, Validation Accuracy: 0.8306, Loss: 0.2389\n",
      "Epoch   1 Batch  180/538 - Train Accuracy: 0.8564, Validation Accuracy: 0.8377, Loss: 0.2225\n",
      "Epoch   1 Batch  190/538 - Train Accuracy: 0.8436, Validation Accuracy: 0.8548, Loss: 0.2438\n",
      "Epoch   1 Batch  200/538 - Train Accuracy: 0.8756, Validation Accuracy: 0.8469, Loss: 0.1989\n",
      "Epoch   1 Batch  210/538 - Train Accuracy: 0.8486, Validation Accuracy: 0.8510, Loss: 0.2110\n",
      "Epoch   1 Batch  220/538 - Train Accuracy: 0.8384, Validation Accuracy: 0.8485, Loss: 0.1999\n",
      "Epoch   1 Batch  230/538 - Train Accuracy: 0.8643, Validation Accuracy: 0.8530, Loss: 0.1986\n",
      "Epoch   1 Batch  240/538 - Train Accuracy: 0.8807, Validation Accuracy: 0.8770, Loss: 0.1938\n",
      "Epoch   1 Batch  250/538 - Train Accuracy: 0.8902, Validation Accuracy: 0.8475, Loss: 0.1810\n",
      "Epoch   1 Batch  260/538 - Train Accuracy: 0.8517, Validation Accuracy: 0.8612, Loss: 0.1865\n",
      "Epoch   1 Batch  270/538 - Train Accuracy: 0.8701, Validation Accuracy: 0.8766, Loss: 0.1663\n",
      "Epoch   1 Batch  280/538 - Train Accuracy: 0.9103, Validation Accuracy: 0.8532, Loss: 0.1536\n",
      "Epoch   1 Batch  290/538 - Train Accuracy: 0.8980, Validation Accuracy: 0.8752, Loss: 0.1470\n",
      "Epoch   1 Batch  300/538 - Train Accuracy: 0.8778, Validation Accuracy: 0.8714, Loss: 0.1597\n",
      "Epoch   1 Batch  310/538 - Train Accuracy: 0.9055, Validation Accuracy: 0.8697, Loss: 0.1440\n",
      "Epoch   1 Batch  320/538 - Train Accuracy: 0.8921, Validation Accuracy: 0.8826, Loss: 0.1423\n",
      "Epoch   1 Batch  330/538 - Train Accuracy: 0.9103, Validation Accuracy: 0.8754, Loss: 0.1277\n",
      "Epoch   1 Batch  340/538 - Train Accuracy: 0.8670, Validation Accuracy: 0.8796, Loss: 0.1416\n",
      "Epoch   1 Batch  350/538 - Train Accuracy: 0.9079, Validation Accuracy: 0.8885, Loss: 0.1443\n",
      "Epoch   1 Batch  360/538 - Train Accuracy: 0.8994, Validation Accuracy: 0.8766, Loss: 0.1345\n"
     ]
    },
    {
     "name": "stdout",
     "output_type": "stream",
     "text": [
      "Epoch   1 Batch  370/538 - Train Accuracy: 0.9004, Validation Accuracy: 0.8874, Loss: 0.1274\n",
      "Epoch   1 Batch  380/538 - Train Accuracy: 0.8982, Validation Accuracy: 0.8869, Loss: 0.1151\n",
      "Epoch   1 Batch  390/538 - Train Accuracy: 0.9241, Validation Accuracy: 0.8853, Loss: 0.0991\n",
      "Epoch   1 Batch  400/538 - Train Accuracy: 0.9007, Validation Accuracy: 0.8858, Loss: 0.1139\n",
      "Epoch   1 Batch  410/538 - Train Accuracy: 0.9027, Validation Accuracy: 0.8825, Loss: 0.1245\n",
      "Epoch   1 Batch  420/538 - Train Accuracy: 0.9021, Validation Accuracy: 0.8864, Loss: 0.1088\n",
      "Epoch   1 Batch  430/538 - Train Accuracy: 0.8971, Validation Accuracy: 0.8945, Loss: 0.0993\n",
      "Epoch   1 Batch  440/538 - Train Accuracy: 0.8799, Validation Accuracy: 0.8933, Loss: 0.1202\n",
      "Epoch   1 Batch  450/538 - Train Accuracy: 0.8996, Validation Accuracy: 0.8903, Loss: 0.1244\n",
      "Epoch   1 Batch  460/538 - Train Accuracy: 0.8895, Validation Accuracy: 0.8924, Loss: 0.1166\n",
      "Epoch   1 Batch  470/538 - Train Accuracy: 0.9183, Validation Accuracy: 0.8871, Loss: 0.0980\n",
      "Epoch   1 Batch  480/538 - Train Accuracy: 0.9167, Validation Accuracy: 0.9020, Loss: 0.0978\n",
      "Epoch   1 Batch  490/538 - Train Accuracy: 0.8983, Validation Accuracy: 0.8892, Loss: 0.0938\n",
      "Epoch   1 Batch  500/538 - Train Accuracy: 0.9189, Validation Accuracy: 0.8977, Loss: 0.0768\n",
      "Epoch   1 Batch  510/538 - Train Accuracy: 0.9109, Validation Accuracy: 0.9080, Loss: 0.0881\n",
      "Epoch   1 Batch  520/538 - Train Accuracy: 0.9145, Validation Accuracy: 0.9027, Loss: 0.0931\n",
      "Epoch   1 Batch  530/538 - Train Accuracy: 0.8951, Validation Accuracy: 0.9041, Loss: 0.0978\n",
      "Epoch   2 Batch   10/538 - Train Accuracy: 0.9141, Validation Accuracy: 0.8965, Loss: 0.0884\n",
      "Epoch   2 Batch   20/538 - Train Accuracy: 0.9256, Validation Accuracy: 0.8974, Loss: 0.0872\n",
      "Epoch   2 Batch   30/538 - Train Accuracy: 0.8932, Validation Accuracy: 0.9094, Loss: 0.1004\n",
      "Epoch   2 Batch   40/538 - Train Accuracy: 0.9288, Validation Accuracy: 0.9190, Loss: 0.0701\n",
      "Epoch   2 Batch   50/538 - Train Accuracy: 0.9289, Validation Accuracy: 0.9125, Loss: 0.0794\n",
      "Epoch   2 Batch   60/538 - Train Accuracy: 0.9256, Validation Accuracy: 0.9041, Loss: 0.0784\n",
      "Epoch   2 Batch   70/538 - Train Accuracy: 0.9040, Validation Accuracy: 0.9006, Loss: 0.0819\n",
      "Epoch   2 Batch   80/538 - Train Accuracy: 0.9260, Validation Accuracy: 0.9290, Loss: 0.0807\n",
      "Epoch   2 Batch   90/538 - Train Accuracy: 0.9271, Validation Accuracy: 0.9286, Loss: 0.0837\n",
      "Epoch   2 Batch  100/538 - Train Accuracy: 0.9445, Validation Accuracy: 0.9153, Loss: 0.0691\n",
      "Epoch   2 Batch  110/538 - Train Accuracy: 0.9428, Validation Accuracy: 0.9061, Loss: 0.0741\n",
      "Epoch   2 Batch  120/538 - Train Accuracy: 0.9365, Validation Accuracy: 0.9121, Loss: 0.0584\n",
      "Epoch   2 Batch  130/538 - Train Accuracy: 0.9174, Validation Accuracy: 0.9212, Loss: 0.0691\n",
      "Epoch   2 Batch  140/538 - Train Accuracy: 0.9025, Validation Accuracy: 0.9222, Loss: 0.0883\n",
      "Epoch   2 Batch  150/538 - Train Accuracy: 0.9365, Validation Accuracy: 0.9164, Loss: 0.0661\n",
      "Epoch   2 Batch  160/538 - Train Accuracy: 0.8953, Validation Accuracy: 0.9091, Loss: 0.0656\n",
      "Epoch   2 Batch  170/538 - Train Accuracy: 0.9275, Validation Accuracy: 0.9094, Loss: 0.0742\n",
      "Epoch   2 Batch  180/538 - Train Accuracy: 0.9360, Validation Accuracy: 0.9119, Loss: 0.0674\n",
      "Epoch   2 Batch  190/538 - Train Accuracy: 0.9174, Validation Accuracy: 0.9205, Loss: 0.0918\n",
      "Epoch   2 Batch  200/538 - Train Accuracy: 0.9389, Validation Accuracy: 0.9141, Loss: 0.0587\n",
      "Epoch   2 Batch  210/538 - Train Accuracy: 0.9275, Validation Accuracy: 0.9286, Loss: 0.0709\n",
      "Epoch   2 Batch  220/538 - Train Accuracy: 0.9023, Validation Accuracy: 0.9302, Loss: 0.0678\n",
      "Epoch   2 Batch  230/538 - Train Accuracy: 0.9260, Validation Accuracy: 0.9288, Loss: 0.0627\n",
      "Epoch   2 Batch  240/538 - Train Accuracy: 0.9424, Validation Accuracy: 0.9228, Loss: 0.0655\n",
      "Epoch   2 Batch  250/538 - Train Accuracy: 0.9408, Validation Accuracy: 0.9252, Loss: 0.0607\n",
      "Epoch   2 Batch  260/538 - Train Accuracy: 0.8979, Validation Accuracy: 0.9206, Loss: 0.0684\n",
      "Epoch   2 Batch  270/538 - Train Accuracy: 0.9377, Validation Accuracy: 0.9405, Loss: 0.0559\n",
      "Epoch   2 Batch  280/538 - Train Accuracy: 0.9368, Validation Accuracy: 0.9187, Loss: 0.0555\n",
      "Epoch   2 Batch  290/538 - Train Accuracy: 0.9576, Validation Accuracy: 0.9185, Loss: 0.0515\n",
      "Epoch   2 Batch  300/538 - Train Accuracy: 0.9256, Validation Accuracy: 0.9331, Loss: 0.0641\n",
      "Epoch   2 Batch  310/538 - Train Accuracy: 0.9563, Validation Accuracy: 0.9332, Loss: 0.0651\n",
      "Epoch   2 Batch  320/538 - Train Accuracy: 0.9386, Validation Accuracy: 0.9297, Loss: 0.0603\n",
      "Epoch   2 Batch  330/538 - Train Accuracy: 0.9481, Validation Accuracy: 0.9352, Loss: 0.0515\n",
      "Epoch   2 Batch  340/538 - Train Accuracy: 0.9355, Validation Accuracy: 0.9339, Loss: 0.0581\n",
      "Epoch   2 Batch  350/538 - Train Accuracy: 0.9453, Validation Accuracy: 0.9292, Loss: 0.0641\n",
      "Epoch   2 Batch  360/538 - Train Accuracy: 0.9445, Validation Accuracy: 0.9396, Loss: 0.0557\n",
      "Epoch   2 Batch  370/538 - Train Accuracy: 0.9494, Validation Accuracy: 0.9341, Loss: 0.0549\n",
      "Epoch   2 Batch  380/538 - Train Accuracy: 0.9439, Validation Accuracy: 0.9377, Loss: 0.0478\n",
      "Epoch   2 Batch  390/538 - Train Accuracy: 0.9362, Validation Accuracy: 0.9263, Loss: 0.0500\n",
      "Epoch   2 Batch  400/538 - Train Accuracy: 0.9568, Validation Accuracy: 0.9366, Loss: 0.0538\n",
      "Epoch   2 Batch  410/538 - Train Accuracy: 0.9533, Validation Accuracy: 0.9377, Loss: 0.0535\n",
      "Epoch   2 Batch  420/538 - Train Accuracy: 0.9410, Validation Accuracy: 0.9499, Loss: 0.0536\n",
      "Epoch   2 Batch  430/538 - Train Accuracy: 0.9240, Validation Accuracy: 0.9270, Loss: 0.0587\n",
      "Epoch   2 Batch  440/538 - Train Accuracy: 0.9334, Validation Accuracy: 0.9531, Loss: 0.0553\n",
      "Epoch   2 Batch  450/538 - Train Accuracy: 0.9180, Validation Accuracy: 0.9366, Loss: 0.0708\n",
      "Epoch   2 Batch  460/538 - Train Accuracy: 0.9295, Validation Accuracy: 0.9529, Loss: 0.0593\n",
      "Epoch   2 Batch  470/538 - Train Accuracy: 0.9481, Validation Accuracy: 0.9343, Loss: 0.0532\n",
      "Epoch   2 Batch  480/538 - Train Accuracy: 0.9390, Validation Accuracy: 0.9357, Loss: 0.0555\n",
      "Epoch   2 Batch  490/538 - Train Accuracy: 0.9371, Validation Accuracy: 0.9215, Loss: 0.0540\n",
      "Epoch   2 Batch  500/538 - Train Accuracy: 0.9680, Validation Accuracy: 0.9293, Loss: 0.0349\n",
      "Epoch   2 Batch  510/538 - Train Accuracy: 0.9362, Validation Accuracy: 0.9384, Loss: 0.0487\n",
      "Epoch   2 Batch  520/538 - Train Accuracy: 0.9297, Validation Accuracy: 0.9142, Loss: 0.0630\n",
      "Epoch   2 Batch  530/538 - Train Accuracy: 0.9158, Validation Accuracy: 0.9260, Loss: 0.0765\n",
      "Model Trained and Saved\n"
     ]
    }
   ],
   "source": [
    "\"\"\"\n",
    "DON'T MODIFY ANYTHING IN THIS CELL\n",
    "\"\"\"\n",
    "def get_accuracy(target, logits):\n",
    "    \"\"\"\n",
    "    Calculate accuracy\n",
    "    \"\"\"\n",
    "    max_seq = max(target.shape[1], logits.shape[1])\n",
    "    if max_seq - target.shape[1]:\n",
    "        target = np.pad(\n",
    "            target,\n",
    "            [(0,0),(0,max_seq - target.shape[1])],\n",
    "            'constant')\n",
    "    if max_seq - logits.shape[1]:\n",
    "        logits = np.pad(\n",
    "            logits,\n",
    "            [(0,0),(0,max_seq - logits.shape[1])],\n",
    "            'constant')\n",
    "\n",
    "    return np.mean(np.equal(target, logits))\n",
    "\n",
    "# Split data to training and validation sets\n",
    "train_source = source_int_text[batch_size:]\n",
    "train_target = target_int_text[batch_size:]\n",
    "valid_source = source_int_text[:batch_size]\n",
    "valid_target = target_int_text[:batch_size]\n",
    "(valid_sources_batch, valid_targets_batch, valid_sources_lengths, valid_targets_lengths ) = next(get_batches(valid_source,\n",
    "                                                                                                             valid_target,\n",
    "                                                                                                             batch_size,\n",
    "                                                                                                             source_vocab_to_int['<PAD>'],\n",
    "                                                                                                             target_vocab_to_int['<PAD>']))                                                                                                  \n",
    "with tf.Session(graph=train_graph) as sess:\n",
    "    sess.run(tf.global_variables_initializer())\n",
    "\n",
    "    for epoch_i in range(epochs):\n",
    "        for batch_i, (source_batch, target_batch, sources_lengths, targets_lengths) in enumerate(\n",
    "                get_batches(train_source, train_target, batch_size,\n",
    "                            source_vocab_to_int['<PAD>'],\n",
    "                            target_vocab_to_int['<PAD>'])):\n",
    "\n",
    "            _, loss = sess.run(\n",
    "                [train_op, cost],\n",
    "                {input_data: source_batch,\n",
    "                 targets: target_batch,\n",
    "                 lr: learning_rate,\n",
    "                 target_sequence_length: targets_lengths,\n",
    "                 source_sequence_length: sources_lengths,\n",
    "                 keep_prob: keep_probability})\n",
    "\n",
    "\n",
    "            if batch_i % display_step == 0 and batch_i > 0:\n",
    "\n",
    "\n",
    "                batch_train_logits = sess.run(\n",
    "                    inference_logits,\n",
    "                    {input_data: source_batch,\n",
    "                     source_sequence_length: sources_lengths,\n",
    "                     target_sequence_length: targets_lengths,\n",
    "                     keep_prob: 1.0})\n",
    "\n",
    "\n",
    "                batch_valid_logits = sess.run(\n",
    "                    inference_logits,\n",
    "                    {input_data: valid_sources_batch,\n",
    "                     source_sequence_length: valid_sources_lengths,\n",
    "                     target_sequence_length: valid_targets_lengths,\n",
    "                     keep_prob: 1.0})\n",
    "\n",
    "                train_acc = get_accuracy(target_batch, batch_train_logits)\n",
    "\n",
    "                valid_acc = get_accuracy(valid_targets_batch, batch_valid_logits)\n",
    "\n",
    "                print('Epoch {:>3} Batch {:>4}/{} - Train Accuracy: {:>6.4f}, Validation Accuracy: {:>6.4f}, Loss: {:>6.4f}'\n",
    "                      .format(epoch_i, batch_i, len(source_int_text) // batch_size, train_acc, valid_acc, loss))\n",
    "\n",
    "    # Save Model\n",
    "    saver = tf.train.Saver()\n",
    "    saver.save(sess, save_path)\n",
    "    print('Model Trained and Saved')"
   ]
  },
  {
   "cell_type": "markdown",
   "metadata": {},
   "source": [
    "### Save Parameters\n",
    "Save the `batch_size` and `save_path` parameters for inference."
   ]
  },
  {
   "cell_type": "code",
   "execution_count": 20,
   "metadata": {
    "collapsed": true
   },
   "outputs": [],
   "source": [
    "\"\"\"\n",
    "DON'T MODIFY ANYTHING IN THIS CELL\n",
    "\"\"\"\n",
    "# Save parameters for checkpoint\n",
    "helper.save_params(save_path)"
   ]
  },
  {
   "cell_type": "markdown",
   "metadata": {},
   "source": [
    "# Checkpoint"
   ]
  },
  {
   "cell_type": "code",
   "execution_count": 21,
   "metadata": {
    "collapsed": true
   },
   "outputs": [],
   "source": [
    "\"\"\"\n",
    "DON'T MODIFY ANYTHING IN THIS CELL\n",
    "\"\"\"\n",
    "import tensorflow as tf\n",
    "import numpy as np\n",
    "import helper\n",
    "import problem_unittests as tests\n",
    "\n",
    "_, (source_vocab_to_int, target_vocab_to_int), (source_int_to_vocab, target_int_to_vocab) = helper.load_preprocess()\n",
    "load_path = helper.load_params()"
   ]
  },
  {
   "cell_type": "markdown",
   "metadata": {},
   "source": [
    "## Sentence to Sequence\n",
    "To feed a sentence into the model for translation, you first need to preprocess it.  Implement the function `sentence_to_seq()` to preprocess new sentences.\n",
    "\n",
    "- Convert the sentence to lowercase\n",
    "- Convert words into ids using `vocab_to_int`\n",
    " - Convert words not in the vocabulary, to the `<UNK>` word id."
   ]
  },
  {
   "cell_type": "code",
   "execution_count": 22,
   "metadata": {},
   "outputs": [
    {
     "name": "stdout",
     "output_type": "stream",
     "text": [
      "Tests Passed\n"
     ]
    }
   ],
   "source": [
    "def sentence_to_seq(sentence, vocab_to_int):\n",
    "    \"\"\"\n",
    "    Convert a sentence to a sequence of ids\n",
    "    :param sentence: String\n",
    "    :param vocab_to_int: Dictionary to go from the words to an id\n",
    "    :return: List of word ids\n",
    "    \"\"\"\n",
    "    # TODO: Implement Function\n",
    "    sentence = sentence.lower()\n",
    "    sentence = sentence.split(' ')\n",
    "    default = \"<UNK>\"\n",
    "    \n",
    "    word_ids = [vocab_to_int.get(i, vocab_to_int[default]) for i in sentence]\n",
    "    \n",
    "    return word_ids\n",
    "\n",
    "\n",
    "\"\"\"\n",
    "DON'T MODIFY ANYTHING IN THIS CELL THAT IS BELOW THIS LINE\n",
    "\"\"\"\n",
    "tests.test_sentence_to_seq(sentence_to_seq)"
   ]
  },
  {
   "cell_type": "markdown",
   "metadata": {},
   "source": [
    "## Translate\n",
    "This will translate `translate_sentence` from English to French."
   ]
  },
  {
   "cell_type": "code",
   "execution_count": 23,
   "metadata": {},
   "outputs": [
    {
     "name": "stdout",
     "output_type": "stream",
     "text": [
      "INFO:tensorflow:Restoring parameters from checkpoints/dev\n",
      "Input\n",
      "  Word Ids:      [201, 112, 141, 97, 116, 17, 19]\n",
      "  English Words: ['he', 'saw', 'a', 'old', 'yellow', 'truck', '.']\n",
      "\n",
      "Prediction\n",
      "  Word Ids:      [357, 55, 330, 237, 232, 257, 168, 184, 1]\n",
      "  French Words: il a vu le vieux camion jaune . <EOS>\n"
     ]
    }
   ],
   "source": [
    "translate_sentence = 'he saw a old yellow truck .'\n",
    "\n",
    "\n",
    "\"\"\"\n",
    "DON'T MODIFY ANYTHING IN THIS CELL\n",
    "\"\"\"\n",
    "translate_sentence = sentence_to_seq(translate_sentence, source_vocab_to_int)\n",
    "\n",
    "loaded_graph = tf.Graph()\n",
    "with tf.Session(graph=loaded_graph) as sess:\n",
    "    # Load saved model\n",
    "    loader = tf.train.import_meta_graph(load_path + '.meta')\n",
    "    loader.restore(sess, load_path)\n",
    "\n",
    "    input_data = loaded_graph.get_tensor_by_name('input:0')\n",
    "    logits = loaded_graph.get_tensor_by_name('predictions:0')\n",
    "    target_sequence_length = loaded_graph.get_tensor_by_name('target_sequence_length:0')\n",
    "    source_sequence_length = loaded_graph.get_tensor_by_name('source_sequence_length:0')\n",
    "    keep_prob = loaded_graph.get_tensor_by_name('keep_prob:0')\n",
    "\n",
    "    translate_logits = sess.run(logits, {input_data: [translate_sentence]*batch_size,\n",
    "                                         target_sequence_length: [len(translate_sentence)*2]*batch_size,\n",
    "                                         source_sequence_length: [len(translate_sentence)]*batch_size,\n",
    "                                         keep_prob: 1.0})[0]\n",
    "\n",
    "print('Input')\n",
    "print('  Word Ids:      {}'.format([i for i in translate_sentence]))\n",
    "print('  English Words: {}'.format([source_int_to_vocab[i] for i in translate_sentence]))\n",
    "\n",
    "print('\\nPrediction')\n",
    "print('  Word Ids:      {}'.format([i for i in translate_logits]))\n",
    "print('  French Words: {}'.format(\" \".join([target_int_to_vocab[i] for i in translate_logits])))\n"
   ]
  },
  {
   "cell_type": "markdown",
   "metadata": {},
   "source": [
    "## Imperfect Translation\n",
    "You might notice that some sentences translate better than others.  Since the dataset you're using only has a vocabulary of 227 English words of the thousands that you use, you're only going to see good results using these words.  For this project, you don't need a perfect translation. However, if you want to create a better translation model, you'll need better data.\n",
    "\n",
    "You can train on the [WMT10 French-English corpus](http://www.statmt.org/wmt10/training-giga-fren.tar).  This dataset has more vocabulary and richer in topics discussed.  However, this will take you days to train, so make sure you've a GPU and the neural network is performing well on dataset we provided.  Just make sure you play with the WMT10 corpus after you've submitted this project.\n",
    "## Submitting This Project\n",
    "When submitting this project, make sure to run all the cells before saving the notebook. Save the notebook file as \"dlnd_language_translation.ipynb\" and save it as a HTML file under \"File\" -> \"Download as\". Include the \"helper.py\" and \"problem_unittests.py\" files in your submission."
   ]
  }
 ],
 "metadata": {
  "anaconda-cloud": {},
  "kernelspec": {
   "display_name": "Python 3",
   "language": "python",
   "name": "python3"
  },
  "language_info": {
   "codemirror_mode": {
    "name": "ipython",
    "version": 3
   },
   "file_extension": ".py",
   "mimetype": "text/x-python",
   "name": "python",
   "nbconvert_exporter": "python",
   "pygments_lexer": "ipython3",
   "version": "3.5.3"
  }
 },
 "nbformat": 4,
 "nbformat_minor": 1
}
